{
 "cells": [
  {
   "cell_type": "code",
   "execution_count": 1,
   "id": "87e1cd39",
   "metadata": {},
   "outputs": [],
   "source": [
    "# load the SQL magic commands \n",
    "%load_ext sql"
   ]
  },
  {
   "cell_type": "code",
   "execution_count": 2,
   "id": "7533b536",
   "metadata": {},
   "outputs": [],
   "source": [
    "# Connect to the TMDB database\n",
    "%sql sqlite:///TMDB.db"
   ]
  },
  {
   "cell_type": "code",
   "execution_count": 5,
   "id": "7b65a92f",
   "metadata": {},
   "outputs": [
    {
     "name": "stdout",
     "output_type": "stream",
     "text": [
      " * sqlite:///TMDB.db\n",
      "Done.\n"
     ]
    },
    {
     "data": {
      "text/html": [
       "<table>\n",
       "    <thead>\n",
       "        <tr>\n",
       "            <th>movie_id</th>\n",
       "            <th>title</th>\n",
       "            <th>release_date</th>\n",
       "            <th>budget</th>\n",
       "            <th>homepage</th>\n",
       "            <th>original_language</th>\n",
       "            <th>original_title</th>\n",
       "            <th>overview</th>\n",
       "            <th>popularity</th>\n",
       "            <th>revenue</th>\n",
       "            <th>runtime</th>\n",
       "            <th>release_status</th>\n",
       "            <th>tagline</th>\n",
       "            <th>vote_average</th>\n",
       "            <th>vote_count</th>\n",
       "        </tr>\n",
       "    </thead>\n",
       "    <tbody>\n",
       "        <tr>\n",
       "            <td>5</td>\n",
       "            <td>Four Rooms</td>\n",
       "            <td>1995-12-09 00:00:00.000000</td>\n",
       "            <td>4000000</td>\n",
       "            <td>None</td>\n",
       "            <td>en</td>\n",
       "            <td>Four Rooms</td>\n",
       "            <td>It&#x27;s Ted the Bellhop&#x27;s first night on the job...and the hotel&#x27;s very unusual guests are about to place him in some outrageous predicaments. It seems that this evening&#x27;s room service is serving up one unbelievable happening after another.</td>\n",
       "            <td>22.87623</td>\n",
       "            <td>4300000.0</td>\n",
       "            <td>98.0</td>\n",
       "            <td>Released</td>\n",
       "            <td>Twelve outrageous guests. Four scandalous requests. And one lone bellhop, in his first day on the job, who&#x27;s in for the wildest New year&#x27;s Eve of his life.</td>\n",
       "            <td>6.5</td>\n",
       "            <td>530</td>\n",
       "        </tr>\n",
       "        <tr>\n",
       "            <td>11</td>\n",
       "            <td>Star Wars</td>\n",
       "            <td>1977-05-25 00:00:00.000000</td>\n",
       "            <td>11000000</td>\n",
       "            <td>http://www.starwars.com/films/star-wars-episode-iv-a-new-hope</td>\n",
       "            <td>en</td>\n",
       "            <td>Star Wars</td>\n",
       "            <td>Princess Leia is captured and held hostage by the evil Imperial forces in their effort to take over the galactic Empire. Venturesome Luke Skywalker and dashing captain Han Solo team together with the loveable robot duo R2-D2 and C-3PO to rescue the beautiful princess and restore peace and justice in the Empire.</td>\n",
       "            <td>126.393695</td>\n",
       "            <td>775398007.0</td>\n",
       "            <td>121.0</td>\n",
       "            <td>Released</td>\n",
       "            <td>A long time ago in a galaxy far, far away...</td>\n",
       "            <td>8.1</td>\n",
       "            <td>6624</td>\n",
       "        </tr>\n",
       "    </tbody>\n",
       "</table>"
      ],
      "text/plain": [
       "[(5, 'Four Rooms', '1995-12-09 00:00:00.000000', 4000000, None, 'en', 'Four Rooms', \"It's Ted the Bellhop's first night on the job...and the hotel's very unusual guests are about to place him in some outrageous predicaments. It seems that this evening's room service is serving up one unbelievable happening after another.\", 22.87623, 4300000.0, 98.0, 'Released', \"Twelve outrageous guests. Four scandalous requests. And one lone bellhop, in his first day on the job, who's in for the wildest New year's Eve of his life.\", 6.5, 530),\n",
       " (11, 'Star Wars', '1977-05-25 00:00:00.000000', 11000000, 'http://www.starwars.com/films/star-wars-episode-iv-a-new-hope', 'en', 'Star Wars', 'Princess Leia is captured and held hostage by the evil Imperial forces in their effort to take over the galactic Empire. Venturesome Luke Skywalker a ... (14 characters truncated) ... tain Han Solo team together with the loveable robot duo R2-D2 and C-3PO to rescue the beautiful princess and restore peace and justice in the Empire.', 126.393695, 775398007.0, 121.0, 'Released', 'A long time ago in a galaxy far, far away...', 8.1, 6624)]"
      ]
     },
     "execution_count": 5,
     "metadata": {},
     "output_type": "execute_result"
    }
   ],
   "source": [
    "%%sql \n",
    "-- First two rows in the Movies table \n",
    "\n",
    "SELECT\n",
    "    *\n",
    "FROM \n",
    "    Movies\n",
    "LIMIT 2;"
   ]
  },
  {
   "cell_type": "code",
   "execution_count": null,
   "id": "59bbb2a6",
   "metadata": {},
   "outputs": [],
   "source": []
  }
 ],
 "metadata": {
  "kernelspec": {
   "display_name": "base",
   "language": "python",
   "name": "python3"
  },
  "language_info": {
   "codemirror_mode": {
    "name": "ipython",
    "version": 3
   },
   "file_extension": ".py",
   "mimetype": "text/x-python",
   "name": "python",
   "nbconvert_exporter": "python",
   "pygments_lexer": "ipython3",
   "version": "3.10.9"
  }
 },
 "nbformat": 4,
 "nbformat_minor": 5
}
